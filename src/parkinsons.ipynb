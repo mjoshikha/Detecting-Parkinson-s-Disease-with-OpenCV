{
  "nbformat": 4,
  "nbformat_minor": 0,
  "metadata": {
    "colab": {
      "name": "parkinsons.ipynb",
      "provenance": [],
      "collapsed_sections": []
    },
    "kernelspec": {
      "name": "python3",
      "display_name": "Python 3"
    },
    "language_info": {
      "name": "python"
    }
  },
  "cells": [
    {
      "cell_type": "code",
      "execution_count": 2,
      "metadata": {
        "id": "1vtIFGoWY3k2"
      },
      "outputs": [],
      "source": [
        "import numpy as np\n",
        "import torch\n",
        "import os\n",
        "import cv2\n",
        "import matplotlib.pyplot as plt\n",
        "import torch.nn as nn\n",
        "import torchvision\n",
        "import PIL\n",
        "from PIL import Image\n",
        "from sklearn.ensemble import RandomForestClassifier\n",
        "from sklearn.preprocessing import LabelEncoder\n",
        "from sklearn.metrics import confusion_matrix\n",
        "from skimage import feature\n",
        "from imutils import build_montages\n",
        "from imutils import paths"
      ]
    },
    {
      "cell_type": "code",
      "source": [
        "from google.colab import drive\n",
        "drive.mount('/content/drive')"
      ],
      "metadata": {
        "colab": {
          "base_uri": "https://localhost:8080/"
        },
        "id": "UNZi0T9DZGGx",
        "outputId": "385a8f3b-f0ce-47a9-e2aa-3309c8cf21c3"
      },
      "execution_count": 1,
      "outputs": [
        {
          "output_type": "stream",
          "name": "stdout",
          "text": [
            "Drive already mounted at /content/drive; to attempt to forcibly remount, call drive.mount(\"/content/drive\", force_remount=True).\n"
          ]
        }
      ]
    },
    {
      "cell_type": "code",
      "source": [
        "!unzip '/content/drive/MyDrive/parkinsons.zip'"
      ],
      "metadata": {
        "colab": {
          "base_uri": "https://localhost:8080/"
        },
        "id": "UexwqrRfZVPx",
        "outputId": "a280e579-f30a-40cc-bf3f-ae5a24515eaf"
      },
      "execution_count": 4,
      "outputs": [
        {
          "output_type": "stream",
          "name": "stdout",
          "text": [
            "Archive:  /content/drive/MyDrive/parkinsons.zip\n",
            "replace drawings/spiral/testing/healthy/V01HE01.png? [y]es, [n]o, [A]ll, [N]one, [r]ename: A\n",
            "  inflating: drawings/spiral/testing/healthy/V01HE01.png  \n",
            "  inflating: drawings/spiral/testing/healthy/V02HE01.png  \n",
            "  inflating: drawings/spiral/testing/healthy/V03HE1.png  \n",
            "  inflating: drawings/spiral/testing/healthy/V04HE01.png  \n",
            "  inflating: drawings/spiral/testing/healthy/V05HE01.png  \n",
            "  inflating: drawings/spiral/testing/healthy/V06HE01.png  \n",
            "  inflating: drawings/spiral/testing/healthy/V07HE01.png  \n",
            "  inflating: drawings/spiral/testing/healthy/V08HE01.png  \n",
            "  inflating: drawings/spiral/testing/healthy/V09HE01.png  \n",
            "  inflating: drawings/spiral/testing/healthy/V10HE01.png  \n",
            "  inflating: drawings/spiral/testing/healthy/V11HE01.png  \n",
            "  inflating: drawings/spiral/testing/healthy/V55HE12.png  \n",
            "  inflating: drawings/spiral/testing/healthy/V55HE13.png  \n",
            "  inflating: drawings/spiral/testing/healthy/V55HE14.png  \n",
            "  inflating: drawings/spiral/testing/healthy/V55HE15.png  \n",
            "  inflating: drawings/spiral/testing/parkinson/V01PE01.png  \n",
            "  inflating: drawings/spiral/testing/parkinson/V02PE01.png  \n",
            "  inflating: drawings/spiral/testing/parkinson/V03PE01.png  \n",
            "  inflating: drawings/spiral/testing/parkinson/V03PE04.png  \n",
            "  inflating: drawings/spiral/testing/parkinson/V03PE07.png  \n",
            "  inflating: drawings/spiral/testing/parkinson/V04PE01.png  \n",
            "  inflating: drawings/spiral/testing/parkinson/V05PE01.png  \n",
            "  inflating: drawings/spiral/testing/parkinson/V06PE01.png  \n",
            "  inflating: drawings/spiral/testing/parkinson/V07PE01.png  \n",
            "  inflating: drawings/spiral/testing/parkinson/V08PE01.png  \n",
            "  inflating: drawings/spiral/testing/parkinson/V09PE01.png  \n",
            "  inflating: drawings/spiral/testing/parkinson/V10PE03.png  \n",
            "  inflating: drawings/spiral/testing/parkinson/V11PE03.png  \n",
            "  inflating: drawings/spiral/testing/parkinson/V14PE03.png  \n",
            "  inflating: drawings/spiral/testing/parkinson/V15PE01.png  \n",
            "  inflating: drawings/spiral/training/healthy/V01HE02.png  \n",
            "  inflating: drawings/spiral/training/healthy/V01HE03.png  \n",
            "  inflating: drawings/spiral/training/healthy/V02HE02.png  \n",
            "  inflating: drawings/spiral/training/healthy/V02HE03.png  \n",
            "  inflating: drawings/spiral/training/healthy/V03HE2.png  \n",
            "  inflating: drawings/spiral/training/healthy/V03HE3.png  \n",
            "  inflating: drawings/spiral/training/healthy/V04HE02.png  \n",
            "  inflating: drawings/spiral/training/healthy/V04HE03.png  \n",
            "  inflating: drawings/spiral/training/healthy/V05HE02.png  \n",
            "  inflating: drawings/spiral/training/healthy/V05HE03.png  \n",
            "  inflating: drawings/spiral/training/healthy/V06HE02.png  \n",
            "  inflating: drawings/spiral/training/healthy/V06HE03.png  \n",
            "  inflating: drawings/spiral/training/healthy/V07HE02.png  \n",
            "  inflating: drawings/spiral/training/healthy/V07HE03.png  \n",
            "  inflating: drawings/spiral/training/healthy/V08HE02.png  \n",
            "  inflating: drawings/spiral/training/healthy/V08HE03.png  \n",
            "  inflating: drawings/spiral/training/healthy/V09HE02.png  \n",
            "  inflating: drawings/spiral/training/healthy/V09HE03.png  \n",
            "  inflating: drawings/spiral/training/healthy/V10HE02.png  \n",
            "  inflating: drawings/spiral/training/healthy/V10HE03.png  \n",
            "  inflating: drawings/spiral/training/healthy/V11HE02.png  \n",
            "  inflating: drawings/spiral/training/healthy/V11HE03.png  \n",
            "  inflating: drawings/spiral/training/healthy/V12HE01.png  \n",
            "  inflating: drawings/spiral/training/healthy/V12HE02.png  \n",
            "  inflating: drawings/spiral/training/healthy/V12HE03.png  \n",
            "  inflating: drawings/spiral/training/healthy/V55HE01.png  \n",
            "  inflating: drawings/spiral/training/healthy/V55HE02.png  \n",
            "  inflating: drawings/spiral/training/healthy/V55HE03.png  \n",
            "  inflating: drawings/spiral/training/healthy/V55HE04.png  \n",
            "  inflating: drawings/spiral/training/healthy/V55HE05.png  \n",
            "  inflating: drawings/spiral/training/healthy/V55HE06.png  \n",
            "  inflating: drawings/spiral/training/healthy/V55HE07.png  \n",
            "  inflating: drawings/spiral/training/healthy/V55HE08.png  \n",
            "  inflating: drawings/spiral/training/healthy/V55HE09.png  \n",
            "  inflating: drawings/spiral/training/healthy/V55HE10.png  \n",
            "  inflating: drawings/spiral/training/healthy/V55HE11.png  \n",
            "  inflating: drawings/spiral/training/parkinson/V01PE02.png  \n",
            "  inflating: drawings/spiral/training/parkinson/V01PE03.png  \n",
            "  inflating: drawings/spiral/training/parkinson/V02PE02.png  \n",
            "  inflating: drawings/spiral/training/parkinson/V02PE03.png  \n",
            "  inflating: drawings/spiral/training/parkinson/V03PE02.png  \n",
            "  inflating: drawings/spiral/training/parkinson/V03PE03.png  \n",
            "  inflating: drawings/spiral/training/parkinson/V03PE05.png  \n",
            "  inflating: drawings/spiral/training/parkinson/V03PE06.png  \n",
            "  inflating: drawings/spiral/training/parkinson/V03PE08.png  \n",
            "  inflating: drawings/spiral/training/parkinson/V03PE09.png  \n",
            "  inflating: drawings/spiral/training/parkinson/V04PE02.png  \n",
            "  inflating: drawings/spiral/training/parkinson/V04PE03.png  \n",
            "  inflating: drawings/spiral/training/parkinson/V05PE02.png  \n",
            "  inflating: drawings/spiral/training/parkinson/V05PE03.png  \n",
            "  inflating: drawings/spiral/training/parkinson/V06PE02.png  \n",
            "  inflating: drawings/spiral/training/parkinson/V06PE03.png  \n",
            "  inflating: drawings/spiral/training/parkinson/V07PE02.png  \n",
            "  inflating: drawings/spiral/training/parkinson/V07PE03.png  \n",
            "  inflating: drawings/spiral/training/parkinson/V08PE02.png  \n",
            "  inflating: drawings/spiral/training/parkinson/V08PE03.png  \n",
            "  inflating: drawings/spiral/training/parkinson/V09PE02.png  \n",
            "  inflating: drawings/spiral/training/parkinson/V09PE03.png  \n",
            "  inflating: drawings/spiral/training/parkinson/V10PE01.png  \n",
            "  inflating: drawings/spiral/training/parkinson/V10PE02.png  \n",
            "  inflating: drawings/spiral/training/parkinson/V11PE01.png  \n",
            "  inflating: drawings/spiral/training/parkinson/V11PE02.png  \n",
            "  inflating: drawings/spiral/training/parkinson/V12PE01.png  \n",
            "  inflating: drawings/spiral/training/parkinson/V12PE02.png  \n",
            "  inflating: drawings/spiral/training/parkinson/V12PE03.png  \n",
            "  inflating: drawings/spiral/training/parkinson/V13PE01.png  \n",
            "  inflating: drawings/spiral/training/parkinson/V13PE02.png  \n",
            "  inflating: drawings/spiral/training/parkinson/V13PE03.png  \n",
            "  inflating: drawings/spiral/training/parkinson/V14PE01.png  \n",
            "  inflating: drawings/spiral/training/parkinson/V14PE02.png  \n",
            "  inflating: drawings/spiral/training/parkinson/V15PE02.png  \n",
            "  inflating: drawings/spiral/training/parkinson/V15PE03.png  \n",
            "  inflating: drawings/wave/testing/healthy/V01HO01.png  \n",
            "  inflating: drawings/wave/testing/healthy/V02HO01.png  \n",
            "  inflating: drawings/wave/testing/healthy/V03HO01.png  \n",
            "  inflating: drawings/wave/testing/healthy/V04HO01.png  \n",
            "  inflating: drawings/wave/testing/healthy/V05HO01.png  \n",
            "  inflating: drawings/wave/testing/healthy/V06HO01.png  \n",
            "  inflating: drawings/wave/testing/healthy/V07HO01.png  \n",
            "  inflating: drawings/wave/testing/healthy/V08HO01.png  \n",
            "  inflating: drawings/wave/testing/healthy/V09HO01.png  \n",
            "  inflating: drawings/wave/testing/healthy/V10HO01.png  \n",
            "  inflating: drawings/wave/testing/healthy/V11HO01.png  \n",
            "  inflating: drawings/wave/testing/healthy/V55HO08.png  \n",
            "  inflating: drawings/wave/testing/healthy/V55HO09.png  \n",
            "  inflating: drawings/wave/testing/healthy/V55HO10.png  \n",
            "  inflating: drawings/wave/testing/healthy/V55HO11.png  \n",
            "  inflating: drawings/wave/testing/parkinson/V01PO01.png  \n",
            "  inflating: drawings/wave/testing/parkinson/V02PO01.png  \n",
            "  inflating: drawings/wave/testing/parkinson/V03PO01.png  \n",
            "  inflating: drawings/wave/testing/parkinson/V03PO04.png  \n",
            "  inflating: drawings/wave/testing/parkinson/V03PO07.png  \n",
            "  inflating: drawings/wave/testing/parkinson/V04PO01.png  \n",
            "  inflating: drawings/wave/testing/parkinson/V05PO01.png  \n",
            "  inflating: drawings/wave/testing/parkinson/V06PO01.png  \n",
            "  inflating: drawings/wave/testing/parkinson/V07PO01.png  \n",
            "  inflating: drawings/wave/testing/parkinson/V08PO01.png  \n",
            "  inflating: drawings/wave/testing/parkinson/V09PO01.png  \n",
            "  inflating: drawings/wave/testing/parkinson/V10PO01.png  \n",
            "  inflating: drawings/wave/testing/parkinson/V11PO01.png  \n",
            "  inflating: drawings/wave/testing/parkinson/V14PO01.png  \n",
            "  inflating: drawings/wave/testing/parkinson/V14PO03.png  \n",
            "  inflating: drawings/wave/training/healthy/V01HO02.png  \n",
            "  inflating: drawings/wave/training/healthy/V01HO03.png  \n",
            "  inflating: drawings/wave/training/healthy/V02HO02.png  \n",
            "  inflating: drawings/wave/training/healthy/V02HO03.png  \n",
            "  inflating: drawings/wave/training/healthy/V03HO02.png  \n",
            "  inflating: drawings/wave/training/healthy/V03HO03.png  \n",
            "  inflating: drawings/wave/training/healthy/V04HO02.png  \n",
            "  inflating: drawings/wave/training/healthy/V04HO03.png  \n",
            "  inflating: drawings/wave/training/healthy/V05HO02.png  \n",
            "  inflating: drawings/wave/training/healthy/V05HO03.png  \n",
            "  inflating: drawings/wave/training/healthy/V06HO02.png  \n",
            "  inflating: drawings/wave/training/healthy/V06HO03.png  \n",
            "  inflating: drawings/wave/training/healthy/V07HO02.png  \n",
            "  inflating: drawings/wave/training/healthy/V07HO03.png  \n",
            "  inflating: drawings/wave/training/healthy/V08HO02.png  \n",
            "  inflating: drawings/wave/training/healthy/V08HO03.png  \n",
            "  inflating: drawings/wave/training/healthy/V09HO02.png  \n",
            "  inflating: drawings/wave/training/healthy/V09HO03.png  \n",
            "  inflating: drawings/wave/training/healthy/V10HO02.png  \n",
            "  inflating: drawings/wave/training/healthy/V10HO03.png  \n",
            "  inflating: drawings/wave/training/healthy/V11HO02.png  \n",
            "  inflating: drawings/wave/training/healthy/V11HO03.png  \n",
            "  inflating: drawings/wave/training/healthy/V12HO01.png  \n",
            "  inflating: drawings/wave/training/healthy/V12HO02.png  \n",
            "  inflating: drawings/wave/training/healthy/V12HO03.png  \n",
            "  inflating: drawings/wave/training/healthy/V55HO01.png  \n",
            "  inflating: drawings/wave/training/healthy/V55HO02.png  \n",
            "  inflating: drawings/wave/training/healthy/V55HO03.png  \n",
            "  inflating: drawings/wave/training/healthy/V55HO04.png  \n",
            "  inflating: drawings/wave/training/healthy/V55HO05.png  \n",
            "  inflating: drawings/wave/training/healthy/V55HO06.png  \n",
            "  inflating: drawings/wave/training/healthy/V55HO07.png  \n",
            "  inflating: drawings/wave/training/healthy/V55HO12.png  \n",
            "  inflating: drawings/wave/training/healthy/V55HO13.png  \n",
            "  inflating: drawings/wave/training/healthy/V55HO14.png  \n",
            "  inflating: drawings/wave/training/healthy/V55HO15.png  \n",
            "  inflating: drawings/wave/training/parkinson/V01PO02.png  \n",
            "  inflating: drawings/wave/training/parkinson/V01PO03.png  \n",
            "  inflating: drawings/wave/training/parkinson/V02PO02.png  \n",
            "  inflating: drawings/wave/training/parkinson/V02PO03.png  \n",
            "  inflating: drawings/wave/training/parkinson/V03PO02.png  \n",
            "  inflating: drawings/wave/training/parkinson/V03PO03.png  \n",
            "  inflating: drawings/wave/training/parkinson/V03PO05.png  \n",
            "  inflating: drawings/wave/training/parkinson/V03PO06.png  \n",
            "  inflating: drawings/wave/training/parkinson/V03PO08.png  \n",
            "  inflating: drawings/wave/training/parkinson/V03PO09.png  \n",
            "  inflating: drawings/wave/training/parkinson/V04PO02.png  \n",
            "  inflating: drawings/wave/training/parkinson/V04PO03.png  \n",
            "  inflating: drawings/wave/training/parkinson/V05PO02.png  \n",
            "  inflating: drawings/wave/training/parkinson/V05PO03.png  \n",
            "  inflating: drawings/wave/training/parkinson/V06PO02.png  \n",
            "  inflating: drawings/wave/training/parkinson/V06PO03.png  \n",
            "  inflating: drawings/wave/training/parkinson/V07PO02.png  \n",
            "  inflating: drawings/wave/training/parkinson/V07PO03.png  \n",
            "  inflating: drawings/wave/training/parkinson/V08PO02.png  \n",
            "  inflating: drawings/wave/training/parkinson/V08PO03.png  \n",
            "  inflating: drawings/wave/training/parkinson/V09PO02.png  \n",
            "  inflating: drawings/wave/training/parkinson/V09PO03.png  \n",
            "  inflating: drawings/wave/training/parkinson/V10PO02.png  \n",
            "  inflating: drawings/wave/training/parkinson/V10PO03.png  \n",
            "  inflating: drawings/wave/training/parkinson/V11PO02.png  \n",
            "  inflating: drawings/wave/training/parkinson/V11PO03.png  \n",
            "  inflating: drawings/wave/training/parkinson/V12PO01.png  \n",
            "  inflating: drawings/wave/training/parkinson/V12PO02.png  \n",
            "  inflating: drawings/wave/training/parkinson/V12PO03.png  \n",
            "  inflating: drawings/wave/training/parkinson/V13PO01.png  \n",
            "  inflating: drawings/wave/training/parkinson/V13PO02.png  \n",
            "  inflating: drawings/wave/training/parkinson/V13PO03.png  \n",
            "  inflating: drawings/wave/training/parkinson/V14PO02.png  \n",
            "  inflating: drawings/wave/training/parkinson/V15PO01.png  \n",
            "  inflating: drawings/wave/training/parkinson/V15PO02.png  \n",
            "  inflating: drawings/wave/training/parkinson/V15PO03.png  \n",
            "  inflating: spiral/testing/healthy/V01HE01.png  \n",
            "  inflating: spiral/testing/healthy/V02HE01.png  \n",
            "  inflating: spiral/testing/healthy/V03HE1.png  \n",
            "  inflating: spiral/testing/healthy/V04HE01.png  \n",
            "  inflating: spiral/testing/healthy/V05HE01.png  \n",
            "  inflating: spiral/testing/healthy/V06HE01.png  \n",
            "  inflating: spiral/testing/healthy/V07HE01.png  \n",
            "  inflating: spiral/testing/healthy/V08HE01.png  \n",
            "  inflating: spiral/testing/healthy/V09HE01.png  \n",
            "  inflating: spiral/testing/healthy/V10HE01.png  \n",
            "  inflating: spiral/testing/healthy/V11HE01.png  \n",
            "  inflating: spiral/testing/healthy/V55HE12.png  \n",
            "  inflating: spiral/testing/healthy/V55HE13.png  \n",
            "  inflating: spiral/testing/healthy/V55HE14.png  \n",
            "  inflating: spiral/testing/healthy/V55HE15.png  \n",
            "  inflating: spiral/testing/parkinson/V01PE01.png  \n",
            "  inflating: spiral/testing/parkinson/V02PE01.png  \n",
            "  inflating: spiral/testing/parkinson/V03PE01.png  \n",
            "  inflating: spiral/testing/parkinson/V03PE04.png  \n",
            "  inflating: spiral/testing/parkinson/V03PE07.png  \n",
            "  inflating: spiral/testing/parkinson/V04PE01.png  \n",
            "  inflating: spiral/testing/parkinson/V05PE01.png  \n",
            "  inflating: spiral/testing/parkinson/V06PE01.png  \n",
            "  inflating: spiral/testing/parkinson/V07PE01.png  \n",
            "  inflating: spiral/testing/parkinson/V08PE01.png  \n",
            "  inflating: spiral/testing/parkinson/V09PE01.png  \n",
            "  inflating: spiral/testing/parkinson/V10PE03.png  \n",
            "  inflating: spiral/testing/parkinson/V11PE03.png  \n",
            "  inflating: spiral/testing/parkinson/V14PE03.png  \n",
            "  inflating: spiral/testing/parkinson/V15PE01.png  \n",
            "  inflating: spiral/training/healthy/V01HE02.png  \n",
            "  inflating: spiral/training/healthy/V01HE03.png  \n",
            "  inflating: spiral/training/healthy/V02HE02.png  \n",
            "  inflating: spiral/training/healthy/V02HE03.png  \n",
            "  inflating: spiral/training/healthy/V03HE2.png  \n",
            "  inflating: spiral/training/healthy/V03HE3.png  \n",
            "  inflating: spiral/training/healthy/V04HE02.png  \n",
            "  inflating: spiral/training/healthy/V04HE03.png  \n",
            "  inflating: spiral/training/healthy/V05HE02.png  \n",
            "  inflating: spiral/training/healthy/V05HE03.png  \n",
            "  inflating: spiral/training/healthy/V06HE02.png  \n",
            "  inflating: spiral/training/healthy/V06HE03.png  \n",
            "  inflating: spiral/training/healthy/V07HE02.png  \n",
            "  inflating: spiral/training/healthy/V07HE03.png  \n",
            "  inflating: spiral/training/healthy/V08HE02.png  \n",
            "  inflating: spiral/training/healthy/V08HE03.png  \n",
            "  inflating: spiral/training/healthy/V09HE02.png  \n",
            "  inflating: spiral/training/healthy/V09HE03.png  \n",
            "  inflating: spiral/training/healthy/V10HE02.png  \n",
            "  inflating: spiral/training/healthy/V10HE03.png  \n",
            "  inflating: spiral/training/healthy/V11HE02.png  \n",
            "  inflating: spiral/training/healthy/V11HE03.png  \n",
            "  inflating: spiral/training/healthy/V12HE01.png  \n",
            "  inflating: spiral/training/healthy/V12HE02.png  \n",
            "  inflating: spiral/training/healthy/V12HE03.png  \n",
            "  inflating: spiral/training/healthy/V55HE01.png  \n",
            "  inflating: spiral/training/healthy/V55HE02.png  \n",
            "  inflating: spiral/training/healthy/V55HE03.png  \n",
            "  inflating: spiral/training/healthy/V55HE04.png  \n",
            "  inflating: spiral/training/healthy/V55HE05.png  \n",
            "  inflating: spiral/training/healthy/V55HE06.png  \n",
            "  inflating: spiral/training/healthy/V55HE07.png  \n",
            "  inflating: spiral/training/healthy/V55HE08.png  \n",
            "  inflating: spiral/training/healthy/V55HE09.png  \n",
            "  inflating: spiral/training/healthy/V55HE10.png  \n",
            "  inflating: spiral/training/healthy/V55HE11.png  \n",
            "  inflating: spiral/training/parkinson/V01PE02.png  \n",
            "  inflating: spiral/training/parkinson/V01PE03.png  \n",
            "  inflating: spiral/training/parkinson/V02PE02.png  \n",
            "  inflating: spiral/training/parkinson/V02PE03.png  \n",
            "  inflating: spiral/training/parkinson/V03PE02.png  \n",
            "  inflating: spiral/training/parkinson/V03PE03.png  \n",
            "  inflating: spiral/training/parkinson/V03PE05.png  \n",
            "  inflating: spiral/training/parkinson/V03PE06.png  \n",
            "  inflating: spiral/training/parkinson/V03PE08.png  \n",
            "  inflating: spiral/training/parkinson/V03PE09.png  \n",
            "  inflating: spiral/training/parkinson/V04PE02.png  \n",
            "  inflating: spiral/training/parkinson/V04PE03.png  \n",
            "  inflating: spiral/training/parkinson/V05PE02.png  \n",
            "  inflating: spiral/training/parkinson/V05PE03.png  \n",
            "  inflating: spiral/training/parkinson/V06PE02.png  \n",
            "  inflating: spiral/training/parkinson/V06PE03.png  \n",
            "  inflating: spiral/training/parkinson/V07PE02.png  \n",
            "  inflating: spiral/training/parkinson/V07PE03.png  \n",
            "  inflating: spiral/training/parkinson/V08PE02.png  \n",
            "  inflating: spiral/training/parkinson/V08PE03.png  \n",
            "  inflating: spiral/training/parkinson/V09PE02.png  \n",
            "  inflating: spiral/training/parkinson/V09PE03.png  \n",
            "  inflating: spiral/training/parkinson/V10PE01.png  \n",
            "  inflating: spiral/training/parkinson/V10PE02.png  \n",
            "  inflating: spiral/training/parkinson/V11PE01.png  \n",
            "  inflating: spiral/training/parkinson/V11PE02.png  \n",
            "  inflating: spiral/training/parkinson/V12PE01.png  \n",
            "  inflating: spiral/training/parkinson/V12PE02.png  \n",
            "  inflating: spiral/training/parkinson/V12PE03.png  \n",
            "  inflating: spiral/training/parkinson/V13PE01.png  \n",
            "  inflating: spiral/training/parkinson/V13PE02.png  \n",
            "  inflating: spiral/training/parkinson/V13PE03.png  \n",
            "  inflating: spiral/training/parkinson/V14PE01.png  \n",
            "  inflating: spiral/training/parkinson/V14PE02.png  \n",
            "  inflating: spiral/training/parkinson/V15PE02.png  \n",
            "  inflating: spiral/training/parkinson/V15PE03.png  \n",
            "  inflating: wave/testing/healthy/V01HO01.png  \n",
            "  inflating: wave/testing/healthy/V02HO01.png  \n",
            "  inflating: wave/testing/healthy/V03HO01.png  \n",
            "  inflating: wave/testing/healthy/V04HO01.png  \n",
            "  inflating: wave/testing/healthy/V05HO01.png  \n",
            "  inflating: wave/testing/healthy/V06HO01.png  \n",
            "  inflating: wave/testing/healthy/V07HO01.png  \n",
            "  inflating: wave/testing/healthy/V08HO01.png  \n",
            "  inflating: wave/testing/healthy/V09HO01.png  \n",
            "  inflating: wave/testing/healthy/V10HO01.png  \n",
            "  inflating: wave/testing/healthy/V11HO01.png  \n",
            "  inflating: wave/testing/healthy/V55HO08.png  \n",
            "  inflating: wave/testing/healthy/V55HO09.png  \n",
            "  inflating: wave/testing/healthy/V55HO10.png  \n",
            "  inflating: wave/testing/healthy/V55HO11.png  \n",
            "  inflating: wave/testing/parkinson/V01PO01.png  \n",
            "  inflating: wave/testing/parkinson/V02PO01.png  \n",
            "  inflating: wave/testing/parkinson/V03PO01.png  \n",
            "  inflating: wave/testing/parkinson/V03PO04.png  \n",
            "  inflating: wave/testing/parkinson/V03PO07.png  \n",
            "  inflating: wave/testing/parkinson/V04PO01.png  \n",
            "  inflating: wave/testing/parkinson/V05PO01.png  \n",
            "  inflating: wave/testing/parkinson/V06PO01.png  \n",
            "  inflating: wave/testing/parkinson/V07PO01.png  \n",
            "  inflating: wave/testing/parkinson/V08PO01.png  \n",
            "  inflating: wave/testing/parkinson/V09PO01.png  \n",
            "  inflating: wave/testing/parkinson/V10PO01.png  \n",
            "  inflating: wave/testing/parkinson/V11PO01.png  \n",
            "  inflating: wave/testing/parkinson/V14PO01.png  \n",
            "  inflating: wave/testing/parkinson/V14PO03.png  \n",
            "  inflating: wave/training/healthy/V01HO02.png  \n",
            "  inflating: wave/training/healthy/V01HO03.png  \n",
            "  inflating: wave/training/healthy/V02HO02.png  \n",
            "  inflating: wave/training/healthy/V02HO03.png  \n",
            "  inflating: wave/training/healthy/V03HO02.png  \n",
            "  inflating: wave/training/healthy/V03HO03.png  \n",
            "  inflating: wave/training/healthy/V04HO02.png  \n",
            "  inflating: wave/training/healthy/V04HO03.png  \n",
            "  inflating: wave/training/healthy/V05HO02.png  \n",
            "  inflating: wave/training/healthy/V05HO03.png  \n",
            "  inflating: wave/training/healthy/V06HO02.png  \n",
            "  inflating: wave/training/healthy/V06HO03.png  \n",
            "  inflating: wave/training/healthy/V07HO02.png  \n",
            "  inflating: wave/training/healthy/V07HO03.png  \n",
            "  inflating: wave/training/healthy/V08HO02.png  \n",
            "  inflating: wave/training/healthy/V08HO03.png  \n",
            "  inflating: wave/training/healthy/V09HO02.png  \n",
            "  inflating: wave/training/healthy/V09HO03.png  \n",
            "  inflating: wave/training/healthy/V10HO02.png  \n",
            "  inflating: wave/training/healthy/V10HO03.png  \n",
            "  inflating: wave/training/healthy/V11HO02.png  \n",
            "  inflating: wave/training/healthy/V11HO03.png  \n",
            "  inflating: wave/training/healthy/V12HO01.png  \n",
            "  inflating: wave/training/healthy/V12HO02.png  \n",
            "  inflating: wave/training/healthy/V12HO03.png  \n",
            "  inflating: wave/training/healthy/V55HO01.png  \n",
            "  inflating: wave/training/healthy/V55HO02.png  \n",
            "  inflating: wave/training/healthy/V55HO03.png  \n",
            "  inflating: wave/training/healthy/V55HO04.png  \n",
            "  inflating: wave/training/healthy/V55HO05.png  \n",
            "  inflating: wave/training/healthy/V55HO06.png  \n",
            "  inflating: wave/training/healthy/V55HO07.png  \n",
            "  inflating: wave/training/healthy/V55HO12.png  \n",
            "  inflating: wave/training/healthy/V55HO13.png  \n",
            "  inflating: wave/training/healthy/V55HO14.png  \n",
            "  inflating: wave/training/healthy/V55HO15.png  \n",
            "  inflating: wave/training/parkinson/V01PO02.png  \n",
            "  inflating: wave/training/parkinson/V01PO03.png  \n",
            "  inflating: wave/training/parkinson/V02PO02.png  \n",
            "  inflating: wave/training/parkinson/V02PO03.png  \n",
            "  inflating: wave/training/parkinson/V03PO02.png  \n",
            "  inflating: wave/training/parkinson/V03PO03.png  \n",
            "  inflating: wave/training/parkinson/V03PO05.png  \n",
            "  inflating: wave/training/parkinson/V03PO06.png  \n",
            "  inflating: wave/training/parkinson/V03PO08.png  \n",
            "  inflating: wave/training/parkinson/V03PO09.png  \n",
            "  inflating: wave/training/parkinson/V04PO02.png  \n",
            "  inflating: wave/training/parkinson/V04PO03.png  \n",
            "  inflating: wave/training/parkinson/V05PO02.png  \n",
            "  inflating: wave/training/parkinson/V05PO03.png  \n",
            "  inflating: wave/training/parkinson/V06PO02.png  \n",
            "  inflating: wave/training/parkinson/V06PO03.png  \n",
            "  inflating: wave/training/parkinson/V07PO02.png  \n",
            "  inflating: wave/training/parkinson/V07PO03.png  \n",
            "  inflating: wave/training/parkinson/V08PO02.png  \n",
            "  inflating: wave/training/parkinson/V08PO03.png  \n",
            "  inflating: wave/training/parkinson/V09PO02.png  \n",
            "  inflating: wave/training/parkinson/V09PO03.png  \n",
            "  inflating: wave/training/parkinson/V10PO02.png  \n",
            "  inflating: wave/training/parkinson/V10PO03.png  \n",
            "  inflating: wave/training/parkinson/V11PO02.png  \n",
            "  inflating: wave/training/parkinson/V11PO03.png  \n",
            "  inflating: wave/training/parkinson/V12PO01.png  \n",
            "  inflating: wave/training/parkinson/V12PO02.png  \n",
            "  inflating: wave/training/parkinson/V12PO03.png  \n",
            "  inflating: wave/training/parkinson/V13PO01.png  \n",
            "  inflating: wave/training/parkinson/V13PO02.png  \n",
            "  inflating: wave/training/parkinson/V13PO03.png  \n",
            "  inflating: wave/training/parkinson/V14PO02.png  \n",
            "  inflating: wave/training/parkinson/V15PO01.png  \n",
            "  inflating: wave/training/parkinson/V15PO02.png  \n",
            "  inflating: wave/training/parkinson/V15PO03.png  \n"
          ]
        }
      ]
    },
    {
      "cell_type": "code",
      "source": [
        "img = cv2.imread('/content/wave/training/parkinson/V15PO03.png')\n",
        "plt.imshow(img)\n",
        "plt.show()"
      ],
      "metadata": {
        "colab": {
          "base_uri": "https://localhost:8080/",
          "height": 253
        },
        "id": "v_h67-mIbWWR",
        "outputId": "9167c3af-b9cb-43ad-a59f-c3e609c279eb"
      },
      "execution_count": 5,
      "outputs": [
        {
          "output_type": "display_data",
          "data": {
            "text/plain": [
              "<Figure size 432x288 with 1 Axes>"
            ],
            "image/png": "[encoded data removed]"
          },
          "metadata": {
            "needs_background": "light"
          }
        }
      ]
    },
    {
      "cell_type": "code",
      "source": [
        "img = cv2.imread('/content/spiral/training/healthy/V55HE06.png')\n",
        "plt.imshow(img)\n",
        "plt.show()"
      ],
      "metadata": {
        "colab": {
          "base_uri": "https://localhost:8080/",
          "height": 269
        },
        "id": "qmmu3hTwZh8l",
        "outputId": "73c3e226-a80e-4e29-ed7d-8eca84adf4a9"
      },
      "execution_count": 6,
      "outputs": [
        {
          "output_type": "display_data",
          "data": {
            "text/plain": [
              "<Figure size 432x288 with 1 Axes>"
            ],
            "image/png": "[encoded data removed]"
          },
          "metadata": {
            "needs_background": "light"
          }
        }
      ]
    },
    {
      "cell_type": "code",
      "source": [
        "#torch based data processing\n",
        "class Preprocess(nn.module):\n",
        "  def __init__(self,rootpath,transforms):\n",
        "    self.root = rootpath\n",
        "    self.files = os.listdir(self.root)\n",
        "    self.t = transforms\n",
        "\n",
        "  def __len__(self):\n",
        "    return len(self.files)\n",
        "  def __getitem__(self, x):\n",
        "    imcurr = self.files[x]\n",
        "    print(imcurr)\n",
        "    imfile = os.path.join(self.files[x], imcurr)\n",
        "    img = Image.open(imfile)\n",
        "    #img = np.array(img)\n",
        "    img = self.t(img)\n",
        "    return img"
      ],
      "metadata": {
        "id": "37bmhaPHcaaq"
      },
      "execution_count": null,
      "outputs": []
    },
    {
      "cell_type": "code",
      "source": [
        "def HOG(image):\n",
        "\tfeatures = feature.hog(image, orientations=9,pixels_per_cell=(10, 10), cells_per_block=(2, 2),\n",
        "\t\t                      transform_sqrt=True, block_norm=\"L1\")\n",
        "\treturn features"
      ],
      "metadata": {
        "id": "8SZG1JpOj9db"
      },
      "execution_count": 7,
      "outputs": []
    },
    {
      "cell_type": "code",
      "source": [
        "def Dataloader(path):\n",
        "  imgpaths = list(paths.list_images(path))\n",
        "  imgs,labels = [],[]\n",
        "  for i in imgpaths:\n",
        "    img = cv2.imread(i)\n",
        "    img = cv2.cvtColor(img, cv2.COLOR_BGR2GRAY)\n",
        "    img = cv2.resize(img, (128,128))\n",
        "    img = cv2.threshold(img, 0,255, cv2.THRESH_BINARY_INV | cv2.THRESH_OTSU)[1]\n",
        "    imfeat = HOG(img)\n",
        "\n",
        "    imgs.append(imfeat)\n",
        "    labels.append(i.split('/')[4])\n",
        "  return np.array(imgs), np.array(labels)"
      ],
      "metadata": {
        "id": "sTFYLsIzf7Zd"
      },
      "execution_count": 8,
      "outputs": []
    },
    {
      "cell_type": "code",
      "source": [
        "xtrain,ytrain = Dataloader('/content/wave/training')\n",
        "xtest,ytest = Dataloader('/content/wave/testing')"
      ],
      "metadata": {
        "id": "dReYqRlZh8eZ"
      },
      "execution_count": 9,
      "outputs": []
    },
    {
      "cell_type": "code",
      "source": [
        "sxtrain,sytrain = Dataloader('/content/spiral/training')\n",
        "sxtest, sytest = Dataloader('/content/spiral/testing')"
      ],
      "metadata": {
        "id": "nzxBdBlSoUDR"
      },
      "execution_count": 11,
      "outputs": []
    },
    {
      "cell_type": "code",
      "source": [
        "print(len(xtrain))"
      ],
      "metadata": {
        "colab": {
          "base_uri": "https://localhost:8080/"
        },
        "id": "KZ5PC60NkYWc",
        "outputId": "e9f7a8ae-f4fd-4f97-bfdb-a2ef9e2a65f6"
      },
      "execution_count": 12,
      "outputs": [
        {
          "output_type": "stream",
          "name": "stdout",
          "text": [
            "72\n"
          ]
        }
      ]
    },
    {
      "cell_type": "code",
      "source": [
        "print(len(ytrain))"
      ],
      "metadata": {
        "colab": {
          "base_uri": "https://localhost:8080/"
        },
        "id": "H3stUli2kYUG",
        "outputId": "992dfe5f-94af-4242-85f8-c8a604ad12a2"
      },
      "execution_count": 13,
      "outputs": [
        {
          "output_type": "stream",
          "name": "stdout",
          "text": [
            "72\n"
          ]
        }
      ]
    },
    {
      "cell_type": "code",
      "source": [
        "le = LabelEncoder()\n",
        "ytrain = le.fit_transform(ytrain)\n",
        "ytest = le.fit_transform(ytest)"
      ],
      "metadata": {
        "id": "ZI7pg_LLk_q-"
      },
      "execution_count": 14,
      "outputs": []
    },
    {
      "cell_type": "code",
      "source": [
        "le = LabelEncoder()\n",
        "sytrain = le.fit_transform(sytrain)\n",
        "sytest = le.fit_transform(sytest)"
      ],
      "metadata": {
        "id": "O6DnvZSE0k62"
      },
      "execution_count": 15,
      "outputs": []
    },
    {
      "cell_type": "code",
      "source": [
        "class LogisticRegression:\n",
        "\n",
        "  def Sigmoid(self, z):\n",
        "    y = 1/(1 + np.exp(-z))\n",
        "    return y\n",
        "\n",
        "  def init_wts(self, x):\n",
        "    weights = np.zeros((np.shape(x)[1]+1,1))\n",
        "    x = np.c_[np.ones((np.shape(x)[0],1)),x]\n",
        "    return weights, x\n",
        "\n",
        "\n",
        "  def fit(self, x, y, iters = 400, a=0.001):\n",
        "    weights, x = self.init_wts(x)\n",
        "\n",
        "    #cost calc\n",
        "    def cost(theta):\n",
        "      z = np.dot(x, theta)\n",
        "      c0 = y.T * np.log(self.Sigmoid(z))\n",
        "      c1 = (1-y).T * np.log(1-self.Sigmoid(z))\n",
        "      fcost = -(c1+c0)/len(y)\n",
        "      return fcost\n",
        "    #clist = np.zeros(iters,)\n",
        "    clist = []\n",
        "    for i in range(iters):\n",
        "      weights = weights - a*np.dot(x.T, self.Sigmoid(np.dot(x,weights))-np.reshape(y,(len(y),1)))\n",
        "      clist.append(cost(weights))\n",
        "    self.weights = weights\n",
        "    return clist\n",
        "  \n",
        "  def predict(self, x):\n",
        "    z = np.dot(self.init_wts(x)[1],self.weights)\n",
        "    res = []\n",
        "    for i in self.Sigmoid(z):\n",
        "      if i > 0.5:\n",
        "        res.append(1)\n",
        "      else:\n",
        "        res.append(0)\n",
        "    return res\n"
      ],
      "metadata": {
        "id": "o8hyS4MkrCKk"
      },
      "execution_count": null,
      "outputs": []
    },
    {
      "cell_type": "code",
      "source": [
        "lrs = LogisticRegression()\n",
        "lrs.fit(xtrain,ytrain)"
      ],
      "metadata": {
        "id": "T9BVWgNfrCHu"
      },
      "execution_count": null,
      "outputs": []
    },
    {
      "cell_type": "code",
      "source": [
        "res = lrs.predict(xtest)"
      ],
      "metadata": {
        "id": "npUfjXH7v6Ar"
      },
      "execution_count": null,
      "outputs": []
    },
    {
      "cell_type": "code",
      "source": [
        "cm = confusion_matrix(ytest,res)\n",
        "print(cm)"
      ],
      "metadata": {
        "colab": {
          "base_uri": "https://localhost:8080/"
        },
        "id": "3NSi7ipAwJRj",
        "outputId": "070187a6-7aa1-439f-d9b2-e594b3c825ff"
      },
      "execution_count": null,
      "outputs": [
        {
          "output_type": "stream",
          "name": "stdout",
          "text": [
            "[[ 8  7]\n",
            " [ 4 11]]\n"
          ]
        }
      ]
    },
    {
      "cell_type": "code",
      "source": [
        "(tn,fp),(fn,tp) = cm"
      ],
      "metadata": {
        "id": "IzrSblXrytJh"
      },
      "execution_count": null,
      "outputs": []
    },
    {
      "cell_type": "code",
      "source": [
        "precision = tp / (fp + tp)\n",
        "recall = tp / (fn + tp)\n",
        "f1_score = 2*precision*recall / (precision + recall)\n",
        "\n",
        "print('Wave classification using Logistic Regression \\nPrecision: '+ str(round(precision,4)) + '\\nRecall: ' + str(round(recall,4)) + '\\nF1 Score: ' + str(round(f1_score,4)))"
      ],
      "metadata": {
        "colab": {
          "base_uri": "https://localhost:8080/"
        },
        "id": "A3Tub9OOyjQo",
        "outputId": "048fd223-22bc-42f0-c442-da106dba6c9d"
      },
      "execution_count": null,
      "outputs": [
        {
          "output_type": "stream",
          "name": "stdout",
          "text": [
            "Wave classification using Logistic Regression \n",
            "Precision: 0.6111\n",
            "Recall: 0.7333\n",
            "F1 Score: 0.6667\n"
          ]
        }
      ]
    },
    {
      "cell_type": "code",
      "source": [
        "accuracy = (tn+tp) / float(cm.sum())\n",
        "print('Wave classification using Logistic Regression \\nAccuracy value:', accuracy)"
      ],
      "metadata": {
        "colab": {
          "base_uri": "https://localhost:8080/"
        },
        "id": "Rd3ALEcZwPuv",
        "outputId": "270e5193-cfd7-442c-e846-1e25ff7a6b6d"
      },
      "execution_count": null,
      "outputs": [
        {
          "output_type": "stream",
          "name": "stdout",
          "text": [
            "Wave classification using Logistic Regression \n",
            "Accuracy value: 0.6333333333333333\n"
          ]
        }
      ]
    },
    {
      "cell_type": "code",
      "source": [
        "spiral_lr = LogisticRegression()\n",
        "spiral_lr.fit(sxtrain,sytrain)"
      ],
      "metadata": {
        "id": "qlZMD_dkyOL7"
      },
      "execution_count": null,
      "outputs": []
    },
    {
      "cell_type": "code",
      "source": [
        "sres = spiral_lr.predict(sxtest)"
      ],
      "metadata": {
        "id": "VZ1JWUK-zyIL"
      },
      "execution_count": null,
      "outputs": []
    },
    {
      "cell_type": "code",
      "source": [
        "scm = confusion_matrix(sytest,sres)\n",
        "print(scm)"
      ],
      "metadata": {
        "colab": {
          "base_uri": "https://localhost:8080/"
        },
        "id": "Hso7TSI31DlL",
        "outputId": "e6346b32-b1aa-4e63-814c-0210d0b43cfa"
      },
      "execution_count": null,
      "outputs": [
        {
          "output_type": "stream",
          "name": "stdout",
          "text": [
            "[[11  4]\n",
            " [ 4 11]]\n"
          ]
        }
      ]
    },
    {
      "cell_type": "code",
      "source": [
        "(tn,fp),(fn,tp) = scm"
      ],
      "metadata": {
        "id": "eNQ7mGYu1Ide"
      },
      "execution_count": null,
      "outputs": []
    },
    {
      "cell_type": "code",
      "source": [
        "precision = tp / (fp + tp)\n",
        "recall = tp / (fn + tp)\n",
        "f1_score = 2*precision*recall / (precision + recall)\n",
        "\n",
        "print('Spiral classification using Logistic Regression \\nPrecision: '+ str(round(precision,4)) + '\\nRecall: ' + str(round(recall,4)) + '\\nF1 Score: ' + str(round(f1_score,4)))"
      ],
      "metadata": {
        "colab": {
          "base_uri": "https://localhost:8080/"
        },
        "id": "1_5Z2kba1Ia8",
        "outputId": "70f60706-d44d-47df-b37f-68a017d69874"
      },
      "execution_count": null,
      "outputs": [
        {
          "output_type": "stream",
          "name": "stdout",
          "text": [
            "Spiral classification using Logistic Regression \n",
            "Precision: 0.7333\n",
            "Recall: 0.7333\n",
            "F1 Score: 0.7333\n"
          ]
        }
      ]
    },
    {
      "cell_type": "code",
      "source": [
        "accuracy = (tn+tp) / float(scm.sum())\n",
        "print('Spiral classification using Logistic Regression \\nAccuracy value:', round(accuracy,1))"
      ],
      "metadata": {
        "colab": {
          "base_uri": "https://localhost:8080/"
        },
        "id": "uzqxgGAq1R06",
        "outputId": "75aea841-16e2-4c29-f735-87737c2d140a"
      },
      "execution_count": null,
      "outputs": [
        {
          "output_type": "stream",
          "name": "stdout",
          "text": [
            "Spiral classification using Logistic Regression \n",
            "Accuracy value: 0.7\n"
          ]
        }
      ]
    },
    {
      "cell_type": "code",
      "source": [
        "WaveMod = RandomForestClassifier()\n",
        "WaveMod.fit(xtrain,ytrain)"
      ],
      "metadata": {
        "colab": {
          "base_uri": "https://localhost:8080/"
        },
        "id": "dcxvmPtqk_of",
        "outputId": "b0c581f4-282e-4b88-8e8e-1b292cf8d9aa"
      },
      "execution_count": 16,
      "outputs": [
        {
          "output_type": "execute_result",
          "data": {
            "text/plain": [
              "RandomForestClassifier()"
            ]
          },
          "metadata": {},
          "execution_count": 16
        }
      ]
    },
    {
      "cell_type": "code",
      "source": [
        "wres = WaveMod.predict(xtest)\n",
        "wcm = confusion_matrix(ytest,wres)"
      ],
      "metadata": {
        "id": "Hqy-wAXtkYRg"
      },
      "execution_count": 18,
      "outputs": []
    },
    {
      "cell_type": "code",
      "source": [
        "print(wcm)"
      ],
      "metadata": {
        "colab": {
          "base_uri": "https://localhost:8080/"
        },
        "id": "bG9ZFhfgnW8V",
        "outputId": "f6aeafde-eaf4-4567-c611-45aed5156a10"
      },
      "execution_count": 19,
      "outputs": [
        {
          "output_type": "stream",
          "name": "stdout",
          "text": [
            "[[10  5]\n",
            " [ 2 13]]\n"
          ]
        }
      ]
    },
    {
      "cell_type": "code",
      "source": [
        "(wtn,wfp),(wfn,wtp) = wcm"
      ],
      "metadata": {
        "id": "fNAwPTqzBp8R"
      },
      "execution_count": 21,
      "outputs": []
    },
    {
      "cell_type": "code",
      "source": [
        "precision = wtp / (wfp + wtp)\n",
        "recall = wtp / (wfn + wtp)\n",
        "f1_score = 2*precision*recall / (precision + recall)\n",
        "\n",
        "print('Wave classification using Logistic Regression \\nPrecision: '+ str(round(precision,4)) + '\\nRecall: ' + str(round(recall,4)) + '\\nF1 Score: ' + str(round(f1_score,4)))"
      ],
      "metadata": {
        "colab": {
          "base_uri": "https://localhost:8080/"
        },
        "id": "2u4O4Lc8Bgjk",
        "outputId": "891922a0-636d-4b85-951e-2e18d6347b21"
      },
      "execution_count": 22,
      "outputs": [
        {
          "output_type": "stream",
          "name": "stdout",
          "text": [
            "Wave classification using Logistic Regression \n",
            "Precision: 0.7222\n",
            "Recall: 0.8667\n",
            "F1 Score: 0.7879\n"
          ]
        }
      ]
    },
    {
      "cell_type": "code",
      "source": [
        "(wtn,wfp),(wfn,wtp) = wcm\n",
        "acc = (wtn+wtp) / float(wcm.sum())\n",
        "print('Wave model - Random forest classifier accuracy value:',round(acc,2))"
      ],
      "metadata": {
        "colab": {
          "base_uri": "https://localhost:8080/"
        },
        "id": "xalNQvj4nYiy",
        "outputId": "6c755c38-5373-4679-8483-96472d043a08"
      },
      "execution_count": 20,
      "outputs": [
        {
          "output_type": "stream",
          "name": "stdout",
          "text": [
            "Wave model - Random forest classifier accuracy value: 0.77\n"
          ]
        }
      ]
    },
    {
      "cell_type": "code",
      "source": [
        "SpiralMod = RandomForestClassifier()\n",
        "SpiralMod.fit(sxtrain,sytrain)"
      ],
      "metadata": {
        "colab": {
          "base_uri": "https://localhost:8080/"
        },
        "id": "AIE4hq0moHWP",
        "outputId": "036c9a79-c10e-400b-89ae-858f17181c57"
      },
      "execution_count": 23,
      "outputs": [
        {
          "output_type": "execute_result",
          "data": {
            "text/plain": [
              "RandomForestClassifier()"
            ]
          },
          "metadata": {},
          "execution_count": 23
        }
      ]
    },
    {
      "cell_type": "code",
      "source": [
        "spiral_res = SpiralMod.predict(sxtest)\n",
        "spiral_cm = confusion_matrix(sytest,spiral_res)"
      ],
      "metadata": {
        "id": "4aL4o-CjoHQq"
      },
      "execution_count": 24,
      "outputs": []
    },
    {
      "cell_type": "code",
      "source": [
        "print(spiral_cm)"
      ],
      "metadata": {
        "colab": {
          "base_uri": "https://localhost:8080/"
        },
        "id": "LismoqqZo5Yy",
        "outputId": "738790e3-0e57-4c31-8c76-f5b5b0e6638a"
      },
      "execution_count": 25,
      "outputs": [
        {
          "output_type": "stream",
          "name": "stdout",
          "text": [
            "[[14  1]\n",
            " [ 7  8]]\n"
          ]
        }
      ]
    },
    {
      "cell_type": "code",
      "source": [
        "(stn,sfp),(sfn,stp) = spiral_cm"
      ],
      "metadata": {
        "id": "WtdqA8hpCDSV"
      },
      "execution_count": 26,
      "outputs": []
    },
    {
      "cell_type": "code",
      "source": [
        "sprecision = stp / (sfp + stp)\n",
        "srecall = stp / (sfn + stp)\n",
        "sf1_score = 2*sprecision*srecall / (sprecision + srecall)\n",
        "\n",
        "print('Wave classification using Logistic Regression \\nPrecision: '+ str(round(sprecision,4)) + '\\nRecall: ' + str(round(srecall,4)) + '\\nF1 Score: ' + str(round(sf1_score,4)))"
      ],
      "metadata": {
        "colab": {
          "base_uri": "https://localhost:8080/"
        },
        "id": "hAi9DVh2CFgU",
        "outputId": "f6dee760-d5ef-4e5e-f208-adcaa6b6542e"
      },
      "execution_count": 27,
      "outputs": [
        {
          "output_type": "stream",
          "name": "stdout",
          "text": [
            "Wave classification using Logistic Regression \n",
            "Precision: 0.8889\n",
            "Recall: 0.5333\n",
            "F1 Score: 0.6667\n"
          ]
        }
      ]
    },
    {
      "cell_type": "code",
      "source": [
        "spiral_acc = (stn+stp) / float(spiral_cm.sum())\n",
        "print('Spiral model - Random forest classifier accuracy value:',round(spiral_acc,2))"
      ],
      "metadata": {
        "colab": {
          "base_uri": "https://localhost:8080/"
        },
        "id": "gHOFDb7Vo7v7",
        "outputId": "b5d60685-62b7-4886-a6f4-769b547410a2"
      },
      "execution_count": 29,
      "outputs": [
        {
          "output_type": "stream",
          "name": "stdout",
          "text": [
            "Spiral model - Random forest classifier accuracy value: 0.73\n"
          ]
        }
      ]
    }
  ]
}