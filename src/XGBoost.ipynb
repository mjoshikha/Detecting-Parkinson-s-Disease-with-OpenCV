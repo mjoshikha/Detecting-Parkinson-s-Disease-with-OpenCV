{
  "nbformat": 4,
  "nbformat_minor": 0,
  "metadata": {
    "colab": {
      "name": "XGBoost.ipynb",
      "provenance": []
    },
    "kernelspec": {
      "name": "python3",
      "display_name": "Python 3"
    },
    "language_info": {
      "name": "python"
    }
  },
  "cells": [
    {
      "cell_type": "code",
      "execution_count": 1,
      "metadata": {
        "id": "3ItVxDHyfRSt"
      },
      "outputs": [],
      "source": [
        "import numpy as np\n",
        "import torch\n",
        "import os\n",
        "import cv2\n",
        "import matplotlib.pyplot as plt\n",
        "import torch.nn as nn\n",
        "import torchvision\n",
        "import PIL\n",
        "from PIL import Image\n",
        "from sklearn.ensemble import RandomForestClassifier\n",
        "from sklearn.preprocessing import LabelEncoder\n",
        "from sklearn.metrics import confusion_matrix\n",
        "from skimage import feature\n",
        "from imutils import build_montages\n",
        "from imutils import paths\n",
        "from numpy import loadtxt\n",
        "from xgboost import XGBClassifier"
      ]
    },
    {
      "cell_type": "code",
      "source": [
        "from google.colab import drive\n",
        "drive.mount('/content/drive')"
      ],
      "metadata": {
        "colab": {
          "base_uri": "https://localhost:8080/"
        },
        "id": "V61YVQvyfVZq",
        "outputId": "8060dd37-f8d1-4159-e9e6-c71de85c5078"
      },
      "execution_count": 2,
      "outputs": [
        {
          "output_type": "stream",
          "name": "stdout",
          "text": [
            "Mounted at /content/drive\n"
          ]
        }
      ]
    },
    {
      "cell_type": "code",
      "source": [
        "!unzip '/content/drive/MyDrive/parkinsons.zip'"
      ],
      "metadata": {
        "colab": {
          "base_uri": "https://localhost:8080/"
        },
        "id": "TwvyvVIufWbW",
        "outputId": "0a378c2d-c07d-43ba-d9d1-e6659dadd82f"
      },
      "execution_count": 3,
      "outputs": [
        {
          "output_type": "stream",
          "name": "stdout",
          "text": [
            "Archive:  /content/drive/MyDrive/parkinsons.zip\n",
            "  inflating: drawings/spiral/testing/healthy/V01HE01.png  \n",
            "  inflating: drawings/spiral/testing/healthy/V02HE01.png  \n",
            "  inflating: drawings/spiral/testing/healthy/V03HE1.png  \n",
            "  inflating: drawings/spiral/testing/healthy/V04HE01.png  \n",
            "  inflating: drawings/spiral/testing/healthy/V05HE01.png  \n",
            "  inflating: drawings/spiral/testing/healthy/V06HE01.png  \n",
            "  inflating: drawings/spiral/testing/healthy/V07HE01.png  \n",
            "  inflating: drawings/spiral/testing/healthy/V08HE01.png  \n",
            "  inflating: drawings/spiral/testing/healthy/V09HE01.png  \n",
            "  inflating: drawings/spiral/testing/healthy/V10HE01.png  \n",
            "  inflating: drawings/spiral/testing/healthy/V11HE01.png  \n",
            "  inflating: drawings/spiral/testing/healthy/V55HE12.png  \n",
            "  inflating: drawings/spiral/testing/healthy/V55HE13.png  \n",
            "  inflating: drawings/spiral/testing/healthy/V55HE14.png  \n",
            "  inflating: drawings/spiral/testing/healthy/V55HE15.png  \n",
            "  inflating: drawings/spiral/testing/parkinson/V01PE01.png  \n",
            "  inflating: drawings/spiral/testing/parkinson/V02PE01.png  \n",
            "  inflating: drawings/spiral/testing/parkinson/V03PE01.png  \n",
            "  inflating: drawings/spiral/testing/parkinson/V03PE04.png  \n",
            "  inflating: drawings/spiral/testing/parkinson/V03PE07.png  \n",
            "  inflating: drawings/spiral/testing/parkinson/V04PE01.png  \n",
            "  inflating: drawings/spiral/testing/parkinson/V05PE01.png  \n",
            "  inflating: drawings/spiral/testing/parkinson/V06PE01.png  \n",
            "  inflating: drawings/spiral/testing/parkinson/V07PE01.png  \n",
            "  inflating: drawings/spiral/testing/parkinson/V08PE01.png  \n",
            "  inflating: drawings/spiral/testing/parkinson/V09PE01.png  \n",
            "  inflating: drawings/spiral/testing/parkinson/V10PE03.png  \n",
            "  inflating: drawings/spiral/testing/parkinson/V11PE03.png  \n",
            "  inflating: drawings/spiral/testing/parkinson/V14PE03.png  \n",
            "  inflating: drawings/spiral/testing/parkinson/V15PE01.png  \n",
            "  inflating: drawings/spiral/training/healthy/V01HE02.png  \n",
            "  inflating: drawings/spiral/training/healthy/V01HE03.png  \n",
            "  inflating: drawings/spiral/training/healthy/V02HE02.png  \n",
            "  inflating: drawings/spiral/training/healthy/V02HE03.png  \n",
            "  inflating: drawings/spiral/training/healthy/V03HE2.png  \n",
            "  inflating: drawings/spiral/training/healthy/V03HE3.png  \n",
            "  inflating: drawings/spiral/training/healthy/V04HE02.png  \n",
            "  inflating: drawings/spiral/training/healthy/V04HE03.png  \n",
            "  inflating: drawings/spiral/training/healthy/V05HE02.png  \n",
            "  inflating: drawings/spiral/training/healthy/V05HE03.png  \n",
            "  inflating: drawings/spiral/training/healthy/V06HE02.png  \n",
            "  inflating: drawings/spiral/training/healthy/V06HE03.png  \n",
            "  inflating: drawings/spiral/training/healthy/V07HE02.png  \n",
            "  inflating: drawings/spiral/training/healthy/V07HE03.png  \n",
            "  inflating: drawings/spiral/training/healthy/V08HE02.png  \n",
            "  inflating: drawings/spiral/training/healthy/V08HE03.png  \n",
            "  inflating: drawings/spiral/training/healthy/V09HE02.png  \n",
            "  inflating: drawings/spiral/training/healthy/V09HE03.png  \n",
            "  inflating: drawings/spiral/training/healthy/V10HE02.png  \n",
            "  inflating: drawings/spiral/training/healthy/V10HE03.png  \n",
            "  inflating: drawings/spiral/training/healthy/V11HE02.png  \n",
            "  inflating: drawings/spiral/training/healthy/V11HE03.png  \n",
            "  inflating: drawings/spiral/training/healthy/V12HE01.png  \n",
            "  inflating: drawings/spiral/training/healthy/V12HE02.png  \n",
            "  inflating: drawings/spiral/training/healthy/V12HE03.png  \n",
            "  inflating: drawings/spiral/training/healthy/V55HE01.png  \n",
            "  inflating: drawings/spiral/training/healthy/V55HE02.png  \n",
            "  inflating: drawings/spiral/training/healthy/V55HE03.png  \n",
            "  inflating: drawings/spiral/training/healthy/V55HE04.png  \n",
            "  inflating: drawings/spiral/training/healthy/V55HE05.png  \n",
            "  inflating: drawings/spiral/training/healthy/V55HE06.png  \n",
            "  inflating: drawings/spiral/training/healthy/V55HE07.png  \n",
            "  inflating: drawings/spiral/training/healthy/V55HE08.png  \n",
            "  inflating: drawings/spiral/training/healthy/V55HE09.png  \n",
            "  inflating: drawings/spiral/training/healthy/V55HE10.png  \n",
            "  inflating: drawings/spiral/training/healthy/V55HE11.png  \n",
            "  inflating: drawings/spiral/training/parkinson/V01PE02.png  \n",
            "  inflating: drawings/spiral/training/parkinson/V01PE03.png  \n",
            "  inflating: drawings/spiral/training/parkinson/V02PE02.png  \n",
            "  inflating: drawings/spiral/training/parkinson/V02PE03.png  \n",
            "  inflating: drawings/spiral/training/parkinson/V03PE02.png  \n",
            "  inflating: drawings/spiral/training/parkinson/V03PE03.png  \n",
            "  inflating: drawings/spiral/training/parkinson/V03PE05.png  \n",
            "  inflating: drawings/spiral/training/parkinson/V03PE06.png  \n",
            "  inflating: drawings/spiral/training/parkinson/V03PE08.png  \n",
            "  inflating: drawings/spiral/training/parkinson/V03PE09.png  \n",
            "  inflating: drawings/spiral/training/parkinson/V04PE02.png  \n",
            "  inflating: drawings/spiral/training/parkinson/V04PE03.png  \n",
            "  inflating: drawings/spiral/training/parkinson/V05PE02.png  \n",
            "  inflating: drawings/spiral/training/parkinson/V05PE03.png  \n",
            "  inflating: drawings/spiral/training/parkinson/V06PE02.png  \n",
            "  inflating: drawings/spiral/training/parkinson/V06PE03.png  \n",
            "  inflating: drawings/spiral/training/parkinson/V07PE02.png  \n",
            "  inflating: drawings/spiral/training/parkinson/V07PE03.png  \n",
            "  inflating: drawings/spiral/training/parkinson/V08PE02.png  \n",
            "  inflating: drawings/spiral/training/parkinson/V08PE03.png  \n",
            "  inflating: drawings/spiral/training/parkinson/V09PE02.png  \n",
            "  inflating: drawings/spiral/training/parkinson/V09PE03.png  \n",
            "  inflating: drawings/spiral/training/parkinson/V10PE01.png  \n",
            "  inflating: drawings/spiral/training/parkinson/V10PE02.png  \n",
            "  inflating: drawings/spiral/training/parkinson/V11PE01.png  \n",
            "  inflating: drawings/spiral/training/parkinson/V11PE02.png  \n",
            "  inflating: drawings/spiral/training/parkinson/V12PE01.png  \n",
            "  inflating: drawings/spiral/training/parkinson/V12PE02.png  \n",
            "  inflating: drawings/spiral/training/parkinson/V12PE03.png  \n",
            "  inflating: drawings/spiral/training/parkinson/V13PE01.png  \n",
            "  inflating: drawings/spiral/training/parkinson/V13PE02.png  \n",
            "  inflating: drawings/spiral/training/parkinson/V13PE03.png  \n",
            "  inflating: drawings/spiral/training/parkinson/V14PE01.png  \n",
            "  inflating: drawings/spiral/training/parkinson/V14PE02.png  \n",
            "  inflating: drawings/spiral/training/parkinson/V15PE02.png  \n",
            "  inflating: drawings/spiral/training/parkinson/V15PE03.png  \n",
            "  inflating: drawings/wave/testing/healthy/V01HO01.png  \n",
            "  inflating: drawings/wave/testing/healthy/V02HO01.png  \n",
            "  inflating: drawings/wave/testing/healthy/V03HO01.png  \n",
            "  inflating: drawings/wave/testing/healthy/V04HO01.png  \n",
            "  inflating: drawings/wave/testing/healthy/V05HO01.png  \n",
            "  inflating: drawings/wave/testing/healthy/V06HO01.png  \n",
            "  inflating: drawings/wave/testing/healthy/V07HO01.png  \n",
            "  inflating: drawings/wave/testing/healthy/V08HO01.png  \n",
            "  inflating: drawings/wave/testing/healthy/V09HO01.png  \n",
            "  inflating: drawings/wave/testing/healthy/V10HO01.png  \n",
            "  inflating: drawings/wave/testing/healthy/V11HO01.png  \n",
            "  inflating: drawings/wave/testing/healthy/V55HO08.png  \n",
            "  inflating: drawings/wave/testing/healthy/V55HO09.png  \n",
            "  inflating: drawings/wave/testing/healthy/V55HO10.png  \n",
            "  inflating: drawings/wave/testing/healthy/V55HO11.png  \n",
            "  inflating: drawings/wave/testing/parkinson/V01PO01.png  \n",
            "  inflating: drawings/wave/testing/parkinson/V02PO01.png  \n",
            "  inflating: drawings/wave/testing/parkinson/V03PO01.png  \n",
            "  inflating: drawings/wave/testing/parkinson/V03PO04.png  \n",
            "  inflating: drawings/wave/testing/parkinson/V03PO07.png  \n",
            "  inflating: drawings/wave/testing/parkinson/V04PO01.png  \n",
            "  inflating: drawings/wave/testing/parkinson/V05PO01.png  \n",
            "  inflating: drawings/wave/testing/parkinson/V06PO01.png  \n",
            "  inflating: drawings/wave/testing/parkinson/V07PO01.png  \n",
            "  inflating: drawings/wave/testing/parkinson/V08PO01.png  \n",
            "  inflating: drawings/wave/testing/parkinson/V09PO01.png  \n",
            "  inflating: drawings/wave/testing/parkinson/V10PO01.png  \n",
            "  inflating: drawings/wave/testing/parkinson/V11PO01.png  \n",
            "  inflating: drawings/wave/testing/parkinson/V14PO01.png  \n",
            "  inflating: drawings/wave/testing/parkinson/V14PO03.png  \n",
            "  inflating: drawings/wave/training/healthy/V01HO02.png  \n",
            "  inflating: drawings/wave/training/healthy/V01HO03.png  \n",
            "  inflating: drawings/wave/training/healthy/V02HO02.png  \n",
            "  inflating: drawings/wave/training/healthy/V02HO03.png  \n",
            "  inflating: drawings/wave/training/healthy/V03HO02.png  \n",
            "  inflating: drawings/wave/training/healthy/V03HO03.png  \n",
            "  inflating: drawings/wave/training/healthy/V04HO02.png  \n",
            "  inflating: drawings/wave/training/healthy/V04HO03.png  \n",
            "  inflating: drawings/wave/training/healthy/V05HO02.png  \n",
            "  inflating: drawings/wave/training/healthy/V05HO03.png  \n",
            "  inflating: drawings/wave/training/healthy/V06HO02.png  \n",
            "  inflating: drawings/wave/training/healthy/V06HO03.png  \n",
            "  inflating: drawings/wave/training/healthy/V07HO02.png  \n",
            "  inflating: drawings/wave/training/healthy/V07HO03.png  \n",
            "  inflating: drawings/wave/training/healthy/V08HO02.png  \n",
            "  inflating: drawings/wave/training/healthy/V08HO03.png  \n",
            "  inflating: drawings/wave/training/healthy/V09HO02.png  \n",
            "  inflating: drawings/wave/training/healthy/V09HO03.png  \n",
            "  inflating: drawings/wave/training/healthy/V10HO02.png  \n",
            "  inflating: drawings/wave/training/healthy/V10HO03.png  \n",
            "  inflating: drawings/wave/training/healthy/V11HO02.png  \n",
            "  inflating: drawings/wave/training/healthy/V11HO03.png  \n",
            "  inflating: drawings/wave/training/healthy/V12HO01.png  \n",
            "  inflating: drawings/wave/training/healthy/V12HO02.png  \n",
            "  inflating: drawings/wave/training/healthy/V12HO03.png  \n",
            "  inflating: drawings/wave/training/healthy/V55HO01.png  \n",
            "  inflating: drawings/wave/training/healthy/V55HO02.png  \n",
            "  inflating: drawings/wave/training/healthy/V55HO03.png  \n",
            "  inflating: drawings/wave/training/healthy/V55HO04.png  \n",
            "  inflating: drawings/wave/training/healthy/V55HO05.png  \n",
            "  inflating: drawings/wave/training/healthy/V55HO06.png  \n",
            "  inflating: drawings/wave/training/healthy/V55HO07.png  \n",
            "  inflating: drawings/wave/training/healthy/V55HO12.png  \n",
            "  inflating: drawings/wave/training/healthy/V55HO13.png  \n",
            "  inflating: drawings/wave/training/healthy/V55HO14.png  \n",
            "  inflating: drawings/wave/training/healthy/V55HO15.png  \n",
            "  inflating: drawings/wave/training/parkinson/V01PO02.png  \n",
            "  inflating: drawings/wave/training/parkinson/V01PO03.png  \n",
            "  inflating: drawings/wave/training/parkinson/V02PO02.png  \n",
            "  inflating: drawings/wave/training/parkinson/V02PO03.png  \n",
            "  inflating: drawings/wave/training/parkinson/V03PO02.png  \n",
            "  inflating: drawings/wave/training/parkinson/V03PO03.png  \n",
            "  inflating: drawings/wave/training/parkinson/V03PO05.png  \n",
            "  inflating: drawings/wave/training/parkinson/V03PO06.png  \n",
            "  inflating: drawings/wave/training/parkinson/V03PO08.png  \n",
            "  inflating: drawings/wave/training/parkinson/V03PO09.png  \n",
            "  inflating: drawings/wave/training/parkinson/V04PO02.png  \n",
            "  inflating: drawings/wave/training/parkinson/V04PO03.png  \n",
            "  inflating: drawings/wave/training/parkinson/V05PO02.png  \n",
            "  inflating: drawings/wave/training/parkinson/V05PO03.png  \n",
            "  inflating: drawings/wave/training/parkinson/V06PO02.png  \n",
            "  inflating: drawings/wave/training/parkinson/V06PO03.png  \n",
            "  inflating: drawings/wave/training/parkinson/V07PO02.png  \n",
            "  inflating: drawings/wave/training/parkinson/V07PO03.png  \n",
            "  inflating: drawings/wave/training/parkinson/V08PO02.png  \n",
            "  inflating: drawings/wave/training/parkinson/V08PO03.png  \n",
            "  inflating: drawings/wave/training/parkinson/V09PO02.png  \n",
            "  inflating: drawings/wave/training/parkinson/V09PO03.png  \n",
            "  inflating: drawings/wave/training/parkinson/V10PO02.png  \n",
            "  inflating: drawings/wave/training/parkinson/V10PO03.png  \n",
            "  inflating: drawings/wave/training/parkinson/V11PO02.png  \n",
            "  inflating: drawings/wave/training/parkinson/V11PO03.png  \n",
            "  inflating: drawings/wave/training/parkinson/V12PO01.png  \n",
            "  inflating: drawings/wave/training/parkinson/V12PO02.png  \n",
            "  inflating: drawings/wave/training/parkinson/V12PO03.png  \n",
            "  inflating: drawings/wave/training/parkinson/V13PO01.png  \n",
            "  inflating: drawings/wave/training/parkinson/V13PO02.png  \n",
            "  inflating: drawings/wave/training/parkinson/V13PO03.png  \n",
            "  inflating: drawings/wave/training/parkinson/V14PO02.png  \n",
            "  inflating: drawings/wave/training/parkinson/V15PO01.png  \n",
            "  inflating: drawings/wave/training/parkinson/V15PO02.png  \n",
            "  inflating: drawings/wave/training/parkinson/V15PO03.png  \n",
            "  inflating: spiral/testing/healthy/V01HE01.png  \n",
            "  inflating: spiral/testing/healthy/V02HE01.png  \n",
            "  inflating: spiral/testing/healthy/V03HE1.png  \n",
            "  inflating: spiral/testing/healthy/V04HE01.png  \n",
            "  inflating: spiral/testing/healthy/V05HE01.png  \n",
            "  inflating: spiral/testing/healthy/V06HE01.png  \n",
            "  inflating: spiral/testing/healthy/V07HE01.png  \n",
            "  inflating: spiral/testing/healthy/V08HE01.png  \n",
            "  inflating: spiral/testing/healthy/V09HE01.png  \n",
            "  inflating: spiral/testing/healthy/V10HE01.png  \n",
            "  inflating: spiral/testing/healthy/V11HE01.png  \n",
            "  inflating: spiral/testing/healthy/V55HE12.png  \n",
            "  inflating: spiral/testing/healthy/V55HE13.png  \n",
            "  inflating: spiral/testing/healthy/V55HE14.png  \n",
            "  inflating: spiral/testing/healthy/V55HE15.png  \n",
            "  inflating: spiral/testing/parkinson/V01PE01.png  \n",
            "  inflating: spiral/testing/parkinson/V02PE01.png  \n",
            "  inflating: spiral/testing/parkinson/V03PE01.png  \n",
            "  inflating: spiral/testing/parkinson/V03PE04.png  \n",
            "  inflating: spiral/testing/parkinson/V03PE07.png  \n",
            "  inflating: spiral/testing/parkinson/V04PE01.png  \n",
            "  inflating: spiral/testing/parkinson/V05PE01.png  \n",
            "  inflating: spiral/testing/parkinson/V06PE01.png  \n",
            "  inflating: spiral/testing/parkinson/V07PE01.png  \n",
            "  inflating: spiral/testing/parkinson/V08PE01.png  \n",
            "  inflating: spiral/testing/parkinson/V09PE01.png  \n",
            "  inflating: spiral/testing/parkinson/V10PE03.png  \n",
            "  inflating: spiral/testing/parkinson/V11PE03.png  \n",
            "  inflating: spiral/testing/parkinson/V14PE03.png  \n",
            "  inflating: spiral/testing/parkinson/V15PE01.png  \n",
            "  inflating: spiral/training/healthy/V01HE02.png  \n",
            "  inflating: spiral/training/healthy/V01HE03.png  \n",
            "  inflating: spiral/training/healthy/V02HE02.png  \n",
            "  inflating: spiral/training/healthy/V02HE03.png  \n",
            "  inflating: spiral/training/healthy/V03HE2.png  \n",
            "  inflating: spiral/training/healthy/V03HE3.png  \n",
            "  inflating: spiral/training/healthy/V04HE02.png  \n",
            "  inflating: spiral/training/healthy/V04HE03.png  \n",
            "  inflating: spiral/training/healthy/V05HE02.png  \n",
            "  inflating: spiral/training/healthy/V05HE03.png  \n",
            "  inflating: spiral/training/healthy/V06HE02.png  \n",
            "  inflating: spiral/training/healthy/V06HE03.png  \n",
            "  inflating: spiral/training/healthy/V07HE02.png  \n",
            "  inflating: spiral/training/healthy/V07HE03.png  \n",
            "  inflating: spiral/training/healthy/V08HE02.png  \n",
            "  inflating: spiral/training/healthy/V08HE03.png  \n",
            "  inflating: spiral/training/healthy/V09HE02.png  \n",
            "  inflating: spiral/training/healthy/V09HE03.png  \n",
            "  inflating: spiral/training/healthy/V10HE02.png  \n",
            "  inflating: spiral/training/healthy/V10HE03.png  \n",
            "  inflating: spiral/training/healthy/V11HE02.png  \n",
            "  inflating: spiral/training/healthy/V11HE03.png  \n",
            "  inflating: spiral/training/healthy/V12HE01.png  \n",
            "  inflating: spiral/training/healthy/V12HE02.png  \n",
            "  inflating: spiral/training/healthy/V12HE03.png  \n",
            "  inflating: spiral/training/healthy/V55HE01.png  \n",
            "  inflating: spiral/training/healthy/V55HE02.png  \n",
            "  inflating: spiral/training/healthy/V55HE03.png  \n",
            "  inflating: spiral/training/healthy/V55HE04.png  \n",
            "  inflating: spiral/training/healthy/V55HE05.png  \n",
            "  inflating: spiral/training/healthy/V55HE06.png  \n",
            "  inflating: spiral/training/healthy/V55HE07.png  \n",
            "  inflating: spiral/training/healthy/V55HE08.png  \n",
            "  inflating: spiral/training/healthy/V55HE09.png  \n",
            "  inflating: spiral/training/healthy/V55HE10.png  \n",
            "  inflating: spiral/training/healthy/V55HE11.png  \n",
            "  inflating: spiral/training/parkinson/V01PE02.png  \n",
            "  inflating: spiral/training/parkinson/V01PE03.png  \n",
            "  inflating: spiral/training/parkinson/V02PE02.png  \n",
            "  inflating: spiral/training/parkinson/V02PE03.png  \n",
            "  inflating: spiral/training/parkinson/V03PE02.png  \n",
            "  inflating: spiral/training/parkinson/V03PE03.png  \n",
            "  inflating: spiral/training/parkinson/V03PE05.png  \n",
            "  inflating: spiral/training/parkinson/V03PE06.png  \n",
            "  inflating: spiral/training/parkinson/V03PE08.png  \n",
            "  inflating: spiral/training/parkinson/V03PE09.png  \n",
            "  inflating: spiral/training/parkinson/V04PE02.png  \n",
            "  inflating: spiral/training/parkinson/V04PE03.png  \n",
            "  inflating: spiral/training/parkinson/V05PE02.png  \n",
            "  inflating: spiral/training/parkinson/V05PE03.png  \n",
            "  inflating: spiral/training/parkinson/V06PE02.png  \n",
            "  inflating: spiral/training/parkinson/V06PE03.png  \n",
            "  inflating: spiral/training/parkinson/V07PE02.png  \n",
            "  inflating: spiral/training/parkinson/V07PE03.png  \n",
            "  inflating: spiral/training/parkinson/V08PE02.png  \n",
            "  inflating: spiral/training/parkinson/V08PE03.png  \n",
            "  inflating: spiral/training/parkinson/V09PE02.png  \n",
            "  inflating: spiral/training/parkinson/V09PE03.png  \n",
            "  inflating: spiral/training/parkinson/V10PE01.png  \n",
            "  inflating: spiral/training/parkinson/V10PE02.png  \n",
            "  inflating: spiral/training/parkinson/V11PE01.png  \n",
            "  inflating: spiral/training/parkinson/V11PE02.png  \n",
            "  inflating: spiral/training/parkinson/V12PE01.png  \n",
            "  inflating: spiral/training/parkinson/V12PE02.png  \n",
            "  inflating: spiral/training/parkinson/V12PE03.png  \n",
            "  inflating: spiral/training/parkinson/V13PE01.png  \n",
            "  inflating: spiral/training/parkinson/V13PE02.png  \n",
            "  inflating: spiral/training/parkinson/V13PE03.png  \n",
            "  inflating: spiral/training/parkinson/V14PE01.png  \n",
            "  inflating: spiral/training/parkinson/V14PE02.png  \n",
            "  inflating: spiral/training/parkinson/V15PE02.png  \n",
            "  inflating: spiral/training/parkinson/V15PE03.png  \n",
            "  inflating: wave/testing/healthy/V01HO01.png  \n",
            "  inflating: wave/testing/healthy/V02HO01.png  \n",
            "  inflating: wave/testing/healthy/V03HO01.png  \n",
            "  inflating: wave/testing/healthy/V04HO01.png  \n",
            "  inflating: wave/testing/healthy/V05HO01.png  \n",
            "  inflating: wave/testing/healthy/V06HO01.png  \n",
            "  inflating: wave/testing/healthy/V07HO01.png  \n",
            "  inflating: wave/testing/healthy/V08HO01.png  \n",
            "  inflating: wave/testing/healthy/V09HO01.png  \n",
            "  inflating: wave/testing/healthy/V10HO01.png  \n",
            "  inflating: wave/testing/healthy/V11HO01.png  \n",
            "  inflating: wave/testing/healthy/V55HO08.png  \n",
            "  inflating: wave/testing/healthy/V55HO09.png  \n",
            "  inflating: wave/testing/healthy/V55HO10.png  \n",
            "  inflating: wave/testing/healthy/V55HO11.png  \n",
            "  inflating: wave/testing/parkinson/V01PO01.png  \n",
            "  inflating: wave/testing/parkinson/V02PO01.png  \n",
            "  inflating: wave/testing/parkinson/V03PO01.png  \n",
            "  inflating: wave/testing/parkinson/V03PO04.png  \n",
            "  inflating: wave/testing/parkinson/V03PO07.png  \n",
            "  inflating: wave/testing/parkinson/V04PO01.png  \n",
            "  inflating: wave/testing/parkinson/V05PO01.png  \n",
            "  inflating: wave/testing/parkinson/V06PO01.png  \n",
            "  inflating: wave/testing/parkinson/V07PO01.png  \n",
            "  inflating: wave/testing/parkinson/V08PO01.png  \n",
            "  inflating: wave/testing/parkinson/V09PO01.png  \n",
            "  inflating: wave/testing/parkinson/V10PO01.png  \n",
            "  inflating: wave/testing/parkinson/V11PO01.png  \n",
            "  inflating: wave/testing/parkinson/V14PO01.png  \n",
            "  inflating: wave/testing/parkinson/V14PO03.png  \n",
            "  inflating: wave/training/healthy/V01HO02.png  \n",
            "  inflating: wave/training/healthy/V01HO03.png  \n",
            "  inflating: wave/training/healthy/V02HO02.png  \n",
            "  inflating: wave/training/healthy/V02HO03.png  \n",
            "  inflating: wave/training/healthy/V03HO02.png  \n",
            "  inflating: wave/training/healthy/V03HO03.png  \n",
            "  inflating: wave/training/healthy/V04HO02.png  \n",
            "  inflating: wave/training/healthy/V04HO03.png  \n",
            "  inflating: wave/training/healthy/V05HO02.png  \n",
            "  inflating: wave/training/healthy/V05HO03.png  \n",
            "  inflating: wave/training/healthy/V06HO02.png  \n",
            "  inflating: wave/training/healthy/V06HO03.png  \n",
            "  inflating: wave/training/healthy/V07HO02.png  \n",
            "  inflating: wave/training/healthy/V07HO03.png  \n",
            "  inflating: wave/training/healthy/V08HO02.png  \n",
            "  inflating: wave/training/healthy/V08HO03.png  \n",
            "  inflating: wave/training/healthy/V09HO02.png  \n",
            "  inflating: wave/training/healthy/V09HO03.png  \n",
            "  inflating: wave/training/healthy/V10HO02.png  \n",
            "  inflating: wave/training/healthy/V10HO03.png  \n",
            "  inflating: wave/training/healthy/V11HO02.png  \n",
            "  inflating: wave/training/healthy/V11HO03.png  \n",
            "  inflating: wave/training/healthy/V12HO01.png  \n",
            "  inflating: wave/training/healthy/V12HO02.png  \n",
            "  inflating: wave/training/healthy/V12HO03.png  \n",
            "  inflating: wave/training/healthy/V55HO01.png  \n",
            "  inflating: wave/training/healthy/V55HO02.png  \n",
            "  inflating: wave/training/healthy/V55HO03.png  \n",
            "  inflating: wave/training/healthy/V55HO04.png  \n",
            "  inflating: wave/training/healthy/V55HO05.png  \n",
            "  inflating: wave/training/healthy/V55HO06.png  \n",
            "  inflating: wave/training/healthy/V55HO07.png  \n",
            "  inflating: wave/training/healthy/V55HO12.png  \n",
            "  inflating: wave/training/healthy/V55HO13.png  \n",
            "  inflating: wave/training/healthy/V55HO14.png  \n",
            "  inflating: wave/training/healthy/V55HO15.png  \n",
            "  inflating: wave/training/parkinson/V01PO02.png  \n",
            "  inflating: wave/training/parkinson/V01PO03.png  \n",
            "  inflating: wave/training/parkinson/V02PO02.png  \n",
            "  inflating: wave/training/parkinson/V02PO03.png  \n",
            "  inflating: wave/training/parkinson/V03PO02.png  \n",
            "  inflating: wave/training/parkinson/V03PO03.png  \n",
            "  inflating: wave/training/parkinson/V03PO05.png  \n",
            "  inflating: wave/training/parkinson/V03PO06.png  \n",
            "  inflating: wave/training/parkinson/V03PO08.png  \n",
            "  inflating: wave/training/parkinson/V03PO09.png  \n",
            "  inflating: wave/training/parkinson/V04PO02.png  \n",
            "  inflating: wave/training/parkinson/V04PO03.png  \n",
            "  inflating: wave/training/parkinson/V05PO02.png  \n",
            "  inflating: wave/training/parkinson/V05PO03.png  \n",
            "  inflating: wave/training/parkinson/V06PO02.png  \n",
            "  inflating: wave/training/parkinson/V06PO03.png  \n",
            "  inflating: wave/training/parkinson/V07PO02.png  \n",
            "  inflating: wave/training/parkinson/V07PO03.png  \n",
            "  inflating: wave/training/parkinson/V08PO02.png  \n",
            "  inflating: wave/training/parkinson/V08PO03.png  \n",
            "  inflating: wave/training/parkinson/V09PO02.png  \n",
            "  inflating: wave/training/parkinson/V09PO03.png  \n",
            "  inflating: wave/training/parkinson/V10PO02.png  \n",
            "  inflating: wave/training/parkinson/V10PO03.png  \n",
            "  inflating: wave/training/parkinson/V11PO02.png  \n",
            "  inflating: wave/training/parkinson/V11PO03.png  \n",
            "  inflating: wave/training/parkinson/V12PO01.png  \n",
            "  inflating: wave/training/parkinson/V12PO02.png  \n",
            "  inflating: wave/training/parkinson/V12PO03.png  \n",
            "  inflating: wave/training/parkinson/V13PO01.png  \n",
            "  inflating: wave/training/parkinson/V13PO02.png  \n",
            "  inflating: wave/training/parkinson/V13PO03.png  \n",
            "  inflating: wave/training/parkinson/V14PO02.png  \n",
            "  inflating: wave/training/parkinson/V15PO01.png  \n",
            "  inflating: wave/training/parkinson/V15PO02.png  \n",
            "  inflating: wave/training/parkinson/V15PO03.png  \n"
          ]
        }
      ]
    },
    {
      "cell_type": "code",
      "source": [
        "def HOG(image):\n",
        "\tfeatures = feature.hog(image, orientations=9,pixels_per_cell=(10, 10), cells_per_block=(2, 2),\n",
        "\t\t                      transform_sqrt=True, block_norm=\"L1\")\n",
        "\treturn features"
      ],
      "metadata": {
        "id": "LyeaZNWZfk8p"
      },
      "execution_count": 4,
      "outputs": []
    },
    {
      "cell_type": "code",
      "source": [
        "def Dataloader(path):\n",
        "  imgpaths = list(paths.list_images(path))\n",
        "  imgs,labels = [],[]\n",
        "  for i in imgpaths:\n",
        "    img = cv2.imread(i)\n",
        "    img = cv2.cvtColor(img, cv2.COLOR_BGR2GRAY)\n",
        "    img = cv2.resize(img, (128,128))\n",
        "    img = cv2.threshold(img, 0,255, cv2.THRESH_BINARY_INV | cv2.THRESH_OTSU)[1]\n",
        "    imfeat = HOG(img)\n",
        "\n",
        "    imgs.append(imfeat)\n",
        "    labels.append(i.split('/')[4])\n",
        "  return np.array(imgs), np.array(labels)"
      ],
      "metadata": {
        "id": "jhhzD5P1fwWA"
      },
      "execution_count": 5,
      "outputs": []
    },
    {
      "cell_type": "code",
      "source": [
        "xtrain,ytrain = Dataloader('/content/wave/training')\n",
        "xtest,ytest = Dataloader('/content/wave/testing')\n",
        "sxtrain,sytrain = Dataloader('/content/spiral/training')\n",
        "sxtest, sytest = Dataloader('/content/spiral/testing')"
      ],
      "metadata": {
        "id": "XxdLS8Eafxba"
      },
      "execution_count": 6,
      "outputs": []
    },
    {
      "cell_type": "code",
      "source": [
        "print(len(xtrain))"
      ],
      "metadata": {
        "colab": {
          "base_uri": "https://localhost:8080/"
        },
        "id": "4G-EBg8mf02m",
        "outputId": "51c6bf52-5115-42c2-bd0a-c404a43a3ac8"
      },
      "execution_count": 7,
      "outputs": [
        {
          "output_type": "stream",
          "name": "stdout",
          "text": [
            "72\n"
          ]
        }
      ]
    },
    {
      "cell_type": "code",
      "source": [
        "print(len(ytrain))"
      ],
      "metadata": {
        "colab": {
          "base_uri": "https://localhost:8080/"
        },
        "id": "QMQMxayof7fN",
        "outputId": "12864c70-7ee1-4e59-9888-2478a49ae4f5"
      },
      "execution_count": 8,
      "outputs": [
        {
          "output_type": "stream",
          "name": "stdout",
          "text": [
            "72\n"
          ]
        }
      ]
    },
    {
      "cell_type": "code",
      "source": [
        "le = LabelEncoder()\n",
        "ytrain = le.fit_transform(ytrain)\n",
        "ytest = le.fit_transform(ytest)\n",
        "le = LabelEncoder()\n",
        "sytrain = le.fit_transform(sytrain)\n",
        "sytest = le.fit_transform(sytest)"
      ],
      "metadata": {
        "id": "RxEa9_yhf-Vb"
      },
      "execution_count": 9,
      "outputs": []
    },
    {
      "cell_type": "code",
      "source": [
        "model = XGBClassifier()\n",
        "model.fit(xtrain, ytrain)"
      ],
      "metadata": {
        "colab": {
          "base_uri": "https://localhost:8080/"
        },
        "id": "KSgGagy2gJnf",
        "outputId": "d38e1df5-98ac-4a8d-88c1-12cc23f9f54a"
      },
      "execution_count": 11,
      "outputs": [
        {
          "output_type": "execute_result",
          "data": {
            "text/plain": [
              "XGBClassifier()"
            ]
          },
          "metadata": {},
          "execution_count": 11
        }
      ]
    },
    {
      "cell_type": "code",
      "source": [
        "y_pred = model.predict(xtest)\n",
        "predictions = [round(value) for value in y_pred]"
      ],
      "metadata": {
        "id": "r1fRa2D8gbPT"
      },
      "execution_count": 12,
      "outputs": []
    },
    {
      "cell_type": "code",
      "source": [
        "from sklearn.metrics import accuracy_score"
      ],
      "metadata": {
        "id": "tlseYT-5gvRt"
      },
      "execution_count": 14,
      "outputs": []
    },
    {
      "cell_type": "code",
      "source": [
        "# evaluate predictions\n",
        "accuracy = accuracy_score(ytest, predictions)\n",
        "print(\"Accuracy: %.2f%%\" % (accuracy * 100.0))"
      ],
      "metadata": {
        "colab": {
          "base_uri": "https://localhost:8080/"
        },
        "id": "N0ySLHn7gj-R",
        "outputId": "3c38cad9-8a5e-47e7-d5b6-5616d5cb85ba"
      },
      "execution_count": 15,
      "outputs": [
        {
          "output_type": "stream",
          "name": "stdout",
          "text": [
            "Accuracy: 56.67%\n"
          ]
        }
      ]
    },
    {
      "cell_type": "code",
      "source": [
        "cm = confusion_matrix(ytest,y_pred)\n",
        "print(cm)"
      ],
      "metadata": {
        "colab": {
          "base_uri": "https://localhost:8080/"
        },
        "id": "aPcaqkc6g48W",
        "outputId": "2c3bdb4b-e32a-4693-d158-9626b188865d"
      },
      "execution_count": 16,
      "outputs": [
        {
          "output_type": "stream",
          "name": "stdout",
          "text": [
            "[[ 6  9]\n",
            " [ 4 11]]\n"
          ]
        }
      ]
    },
    {
      "cell_type": "code",
      "source": [
        "(tn,fp),(fn,tp) = cm\n",
        "precision = tp / (fp + tp)\n",
        "recall = tp / (fn + tp)\n",
        "f1_score = 2*precision*recall / (precision + recall)\n"
      ],
      "metadata": {
        "id": "5HHdJXz8hDN4"
      },
      "execution_count": 17,
      "outputs": []
    },
    {
      "cell_type": "code",
      "source": [
        "print('Wave classification using Logistic Regression \\nPrecision: '+ str(round(precision,4)) + '\\nRecall: ' + str(round(recall,4)) + '\\nF1 Score: ' + str(round(f1_score,4)))\n"
      ],
      "metadata": {
        "colab": {
          "base_uri": "https://localhost:8080/"
        },
        "id": "iyq5LPHshEbY",
        "outputId": "4d52ed82-7a8f-430c-fbd1-88bc90d33959"
      },
      "execution_count": 18,
      "outputs": [
        {
          "output_type": "stream",
          "name": "stdout",
          "text": [
            "Wave classification using Logistic Regression \n",
            "Precision: 0.55\n",
            "Recall: 0.7333\n",
            "F1 Score: 0.6286\n"
          ]
        }
      ]
    },
    {
      "cell_type": "code",
      "source": [
        "accuracy = (tn+tp) / float(cm.sum())\n",
        "print('Wave classification using Logistic Regression \\nAccuracy value:', accuracy)"
      ],
      "metadata": {
        "colab": {
          "base_uri": "https://localhost:8080/"
        },
        "id": "OM4xpkBahLuV",
        "outputId": "8dc40b65-b6fc-4ca4-b6c0-80a109ea8764"
      },
      "execution_count": 19,
      "outputs": [
        {
          "output_type": "stream",
          "name": "stdout",
          "text": [
            "Wave classification using Logistic Regression \n",
            "Accuracy value: 0.5666666666666667\n"
          ]
        }
      ]
    }
  ]
}